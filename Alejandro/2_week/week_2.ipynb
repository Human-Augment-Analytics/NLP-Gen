{
 "cells": [
  {
   "cell_type": "markdown",
   "metadata": {},
   "source": [
    "# Week 2\n",
    "\n",
    "## The Spacy Library\n",
    "\n",
    "Initial experiment is to extract/identify the following:\n",
    "- Names of the parties (individuals, companies)\n",
    "    - `PERSON` , `ORG`\n",
    "- Amounts of money\n",
    "    - `MONEY`\n",
    "- Dates (and ideally the event that happened on that date)\n",
    "    - `DATE`, `TIME`"
   ]
  },
  {
   "cell_type": "markdown",
   "metadata": {},
   "source": [
    "### Importing the library and loading the spanish pretrained language model"
   ]
  },
  {
   "cell_type": "code",
   "execution_count": 54,
   "metadata": {},
   "outputs": [],
   "source": [
    "import os\n",
    "import spacy\n",
    "# import json\n",
    "import pandas as pd\n",
    "\n",
    "nlp = spacy.load(\"es_core_news_sm\")"
   ]
  },
  {
   "cell_type": "markdown",
   "metadata": {},
   "source": [
    "### Getting the path for the sentencias files (i.e. the data)"
   ]
  },
  {
   "cell_type": "code",
   "execution_count": 55,
   "metadata": {},
   "outputs": [],
   "source": [
    "data_files_path = \"../sentencias_txt\""
   ]
  },
  {
   "cell_type": "code",
   "execution_count": 56,
   "metadata": {},
   "outputs": [],
   "source": [
    "sentencias_entities = {}"
   ]
  },
  {
   "cell_type": "markdown",
   "metadata": {},
   "source": [
    "### processing the data"
   ]
  },
  {
   "cell_type": "code",
   "execution_count": 57,
   "metadata": {},
   "outputs": [],
   "source": [
    "for filename in os.listdir(data_files_path):\n",
    "   \n",
    "   with open(os.path.join(data_files_path, filename), 'r') as f:\n",
    "      sentencias_doc = f.read()\n",
    "\n",
    "   doc = nlp(sentencias_doc)\n",
    "\n",
    "   # Find named entities, phrases and concepts\n",
    "   for entity in doc.ents:\n",
    "      if entity.label_ not in sentencias_entities:\n",
    "         sentencias_entities[entity.label_] = [entity.text]\n",
    "      else:\n",
    "         sentencias_entities[entity.label_].append(entity.text)\n"
   ]
  },
  {
   "cell_type": "markdown",
   "metadata": {},
   "source": [
    "### loading into a pandas dataframe"
   ]
  },
  {
   "cell_type": "code",
   "execution_count": 58,
   "metadata": {},
   "outputs": [
    {
     "data": {
      "text/html": [
       "<div>\n",
       "<style scoped>\n",
       "    .dataframe tbody tr th:only-of-type {\n",
       "        vertical-align: middle;\n",
       "    }\n",
       "\n",
       "    .dataframe tbody tr th {\n",
       "        vertical-align: top;\n",
       "    }\n",
       "\n",
       "    .dataframe thead th {\n",
       "        text-align: right;\n",
       "    }\n",
       "</style>\n",
       "<table border=\"1\" class=\"dataframe\">\n",
       "  <thead>\n",
       "    <tr style=\"text-align: right;\">\n",
       "      <th></th>\n",
       "      <th>ORG</th>\n",
       "      <th>MISC</th>\n",
       "      <th>LOC</th>\n",
       "      <th>PER</th>\n",
       "    </tr>\n",
       "  </thead>\n",
       "  <tbody>\n",
       "    <tr>\n",
       "      <th>0</th>\n",
       "      <td>[REPÚBLICA, PODER, REPÚBLICA, Unidad de Primer...</td>\n",
       "      <td>[JUDICIAL, Sentencia laboral núm. 0374-2024-SS...</td>\n",
       "      <td>[JUDICIAL, SANTIAGO \\n \\nSentencia, República ...</td>\n",
       "      <td>[Benigno Filomeno de Rojas, Santiago Rodríguez...</td>\n",
       "    </tr>\n",
       "  </tbody>\n",
       "</table>\n",
       "</div>"
      ],
      "text/plain": [
       "                                                 ORG  \\\n",
       "0  [REPÚBLICA, PODER, REPÚBLICA, Unidad de Primer...   \n",
       "\n",
       "                                                MISC  \\\n",
       "0  [JUDICIAL, Sentencia laboral núm. 0374-2024-SS...   \n",
       "\n",
       "                                                 LOC  \\\n",
       "0  [JUDICIAL, SANTIAGO \\n \\nSentencia, República ...   \n",
       "\n",
       "                                                 PER  \n",
       "0  [Benigno Filomeno de Rojas, Santiago Rodríguez...  "
      ]
     },
     "execution_count": 58,
     "metadata": {},
     "output_type": "execute_result"
    }
   ],
   "source": [
    "# print(sentencias_entities)\n",
    "\n",
    "# result = json.dumps(sentencias_entities, indent = 3)\n",
    "# print(result)\n",
    "\n",
    "pd.DataFrame([sentencias_entities])"
   ]
  },
  {
   "cell_type": "markdown",
   "metadata": {},
   "source": [
    "## Resources\n",
    "\n",
    "- https://spacy.io/usage/spacy-101\n",
    "- https://spacy.io/universe/project/video-spacys-ner-model-alt\n",
    "- https://towardsdatascience.com/named-entity-recognition-ner-using-spacy-nlp-part-4-28da2ece57c6"
   ]
  }
 ],
 "metadata": {
  "kernelspec": {
   "display_name": "nlp_env",
   "language": "python",
   "name": "python3"
  },
  "language_info": {
   "codemirror_mode": {
    "name": "ipython",
    "version": 3
   },
   "file_extension": ".py",
   "mimetype": "text/x-python",
   "name": "python",
   "nbconvert_exporter": "python",
   "pygments_lexer": "ipython3",
   "version": "3.11.9"
  }
 },
 "nbformat": 4,
 "nbformat_minor": 2
}
